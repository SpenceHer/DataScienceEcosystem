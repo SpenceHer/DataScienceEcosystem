{
  "metadata": {
    "kernelspec": {
      "name": "python",
      "display_name": "Python (Pyodide)",
      "language": "python"
    },
    "language_info": {
      "codemirror_mode": {
        "name": "python",
        "version": 3
      },
      "file_extension": ".py",
      "mimetype": "text/x-python",
      "name": "python",
      "nbconvert_exporter": "python",
      "pygments_lexer": "ipython3",
      "version": "3.8"
    }
  },
  "nbformat_minor": 5,
  "nbformat": 4,
  "cells": [
    {
      "cell_type": "markdown",
      "source": "# Data Science Tools and Ecosystem",
      "metadata": {},
      "id": "edcfe847-4a8f-41dc-99d0-c4f21a1a15a0"
    },
    {
      "cell_type": "markdown",
      "source": "In this notebook, Data Science Tools and Ecosystem are summarized.",
      "metadata": {},
      "id": "809b8eb6-a4d6-4e6f-9ce2-d5de57c97681"
    },
    {
      "cell_type": "markdown",
      "source": "**Objectives:**\n\n- List popular languages for Data Science.\n- Identify commonly used libraries in Data Science.\n- Summarize common open-source development tools used in Data Science.\n- Show examples of arithmetic in Python.\n- Shoe how to convert minutes to hours using Python.",
      "metadata": {},
      "id": "ede4a615-b13e-4887-abaf-5fea0981f8d9"
    },
    {
      "cell_type": "markdown",
      "source": "Some of the popular languages that Data Scientists use are:\n\n1. Python\n2. R\n3. SQL",
      "metadata": {},
      "id": "ce2e006a-a1f7-48cf-9a45-8b5bd0ac668b"
    },
    {
      "cell_type": "markdown",
      "source": "Some of the commonly used libraries used by Data Scientists include:\n\n1. NumPy\n2. Pandas\n3. Matplotlib",
      "metadata": {},
      "id": "74265d88-7f64-4851-916c-4c55ee8a1e35"
    },
    {
      "cell_type": "markdown",
      "source": "| Data Science Tools |\n|--------------------|\n| Jupyter Notebook   |\n| Apache Spark       |\n| RStudio            |",
      "metadata": {},
      "id": "62fd45e8-ff45-4e77-8ceb-b7f7b5e0da97"
    },
    {
      "cell_type": "markdown",
      "source": "### Below are a few examples of evaluating arithmetic expressions in Python.",
      "metadata": {},
      "id": "4eb7e7d1-65b7-4fab-8459-944f1908d071"
    },
    {
      "cell_type": "code",
      "source": "# This is a simple arithmetic expression to multiply then add integers.\n3 * 4 + 5",
      "metadata": {
        "trusted": true
      },
      "execution_count": 2,
      "outputs": [
        {
          "execution_count": 2,
          "output_type": "execute_result",
          "data": {
            "text/plain": "17"
          },
          "metadata": {}
        }
      ],
      "id": "9f2a8ad3-9c50-4bcf-9988-e2a985dd5f57"
    },
    {
      "cell_type": "code",
      "source": "# This will convert 200 minutes to hours by dividing by 60.\n200 / 60",
      "metadata": {
        "trusted": true
      },
      "execution_count": 3,
      "outputs": [
        {
          "execution_count": 3,
          "output_type": "execute_result",
          "data": {
            "text/plain": "3.3333333333333335"
          },
          "metadata": {}
        }
      ],
      "id": "ca0242a5-74e7-446b-a70c-222bdd70c299"
    },
    {
      "cell_type": "markdown",
      "source": "## Author\nSpencer Smith",
      "metadata": {},
      "id": "25ae5b79-397c-40e0-a8a8-8addcaaea587"
    },
    {
      "cell_type": "code",
      "source": "",
      "metadata": {},
      "execution_count": null,
      "outputs": [],
      "id": "f253788b-6456-4167-a61d-5773b5cf477d"
    }
  ]
}